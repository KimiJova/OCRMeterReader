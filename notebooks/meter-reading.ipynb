{
 "cells": [
  {
   "cell_type": "code",
   "execution_count": 24,
   "metadata": {},
   "outputs": [],
   "source": [
    "from easyocr import Reader\n",
    "import cv2\n",
    "from PIL import ImageFont, ImageDraw, Image\n",
    "import numpy as np\n",
    "import re"
   ]
  },
  {
   "cell_type": "code",
   "execution_count": 3,
   "metadata": {},
   "outputs": [
    {
     "name": "stdout",
     "output_type": "stream",
     "text": [
      "['en', 'pt']\n"
     ]
    }
   ],
   "source": [
    "# PARAMTERI\n",
    "languages_list = ['en', 'pt']\n",
    "print(languages_list)\n",
    "\n",
    "gpu = True"
   ]
  },
  {
   "cell_type": "code",
   "execution_count": 50,
   "metadata": {},
   "outputs": [],
   "source": [
    "img = cv2.imread(\"../images/file_3.jpg\")\n",
    "cv2.imshow(\"Slika\", img)\n",
    "cv2.waitKey(0)\n",
    "cv2.destroyAllWindows()"
   ]
  },
  {
   "cell_type": "code",
   "execution_count": 51,
   "metadata": {},
   "outputs": [],
   "source": [
    "original = img.copy()"
   ]
  },
  {
   "cell_type": "code",
   "execution_count": 52,
   "metadata": {},
   "outputs": [
    {
     "name": "stderr",
     "output_type": "stream",
     "text": [
      "Neither CUDA nor MPS are available - defaulting to CPU. Note: This module is much faster with a GPU.\n"
     ]
    }
   ],
   "source": [
    "reader = Reader(languages_list, gpu)\n",
    "results = reader.readtext(img)\n"
   ]
  },
  {
   "cell_type": "code",
   "execution_count": 53,
   "metadata": {},
   "outputs": [
    {
     "data": {
      "text/plain": [
       "[([[np.int32(475), np.int32(649)],\n",
       "   [np.int32(517), np.int32(649)],\n",
       "   [np.int32(517), np.int32(685)],\n",
       "   [np.int32(475), np.int32(685)]],\n",
       "  '€:',\n",
       "  np.float64(0.03976555031945574)),\n",
       " ([[np.int32(638), np.int32(664)],\n",
       "   [np.int32(676), np.int32(664)],\n",
       "   [np.int32(676), np.int32(696)],\n",
       "   [np.int32(638), np.int32(696)]],\n",
       "  '7',\n",
       "  np.float64(0.08208541318746043)),\n",
       " ([[np.int32(378), np.int32(720)],\n",
       "   [np.int32(410), np.int32(720)],\n",
       "   [np.int32(410), np.int32(764)],\n",
       "   [np.int32(378), np.int32(764)]],\n",
       "  '0',\n",
       "  np.float64(0.9979170689815788)),\n",
       " ([[np.int32(430), np.int32(714)],\n",
       "   [np.int32(652), np.int32(714)],\n",
       "   [np.int32(652), np.int32(788)],\n",
       "   [np.int32(430), np.int32(788)]],\n",
       "  '2 4 5 5',\n",
       "  np.float64(0.8028466168725696)),\n",
       " ([[np.int32(709), np.int32(745)],\n",
       "   [np.int32(785), np.int32(745)],\n",
       "   [np.int32(785), np.int32(781)],\n",
       "   [np.int32(709), np.int32(781)]],\n",
       "  '^ <',\n",
       "  np.float64(0.041750882254236656)),\n",
       " ([[np.int32(179), np.int32(791)],\n",
       "   [np.int32(292), np.int32(791)],\n",
       "   [np.int32(292), np.int32(836)],\n",
       "   [np.int32(179), np.int32(836)]],\n",
       "  '35ase',\n",
       "  np.float64(0.029072877507564456)),\n",
       " ([[np.int32(331), np.int32(804)],\n",
       "   [np.int32(443), np.int32(804)],\n",
       "   [np.int32(443), np.int32(846)],\n",
       "   [np.int32(331), np.int32(846)]],\n",
       "  '2 Yire',\n",
       "  np.float64(0.42601756027433696)),\n",
       " ([[np.int32(479), np.int32(812)],\n",
       "   [np.int32(611), np.int32(812)],\n",
       "   [np.int32(611), np.int32(863)],\n",
       "   [np.int32(479), np.int32(863)]],\n",
       "  '70/e014',\n",
       "  np.float64(0.054962484924637435)),\n",
       " ([[np.int32(663), np.int32(829)],\n",
       "   [np.int32(750), np.int32(829)],\n",
       "   [np.int32(750), np.int32(870)],\n",
       "   [np.int32(663), np.int32(870)]],\n",
       "  '2804',\n",
       "  np.float64(0.5059032440185547)),\n",
       " ([[np.int32(804), np.int32(839)],\n",
       "   [np.int32(895), np.int32(839)],\n",
       "   [np.int32(895), np.int32(884)],\n",
       "   [np.int32(804), np.int32(884)]],\n",
       "  '19- 2',\n",
       "  np.float64(0.08556305412732858)),\n",
       " ([[np.int32(202), np.int32(890)],\n",
       "   [np.int32(385), np.int32(890)],\n",
       "   [np.int32(385), np.int32(939)],\n",
       "   [np.int32(202), np.int32(939)]],\n",
       "  '5v -01-4',\n",
       "  np.float64(0.2951844437391991)),\n",
       " ([[np.int32(510), np.int32(1116)],\n",
       "   [np.int32(604), np.int32(1116)],\n",
       "   [np.int32(604), np.int32(1172)],\n",
       "   [np.int32(510), np.int32(1172)]],\n",
       "  'NO:',\n",
       "  np.float64(0.6278793254712352)),\n",
       " ([[np.int32(370), np.int32(1268)],\n",
       "   [np.int32(430), np.int32(1268)],\n",
       "   [np.int32(430), np.int32(1296)],\n",
       "   [np.int32(370), np.int32(1296)]],\n",
       "  'o',\n",
       "  np.float64(0.022325532812467408)),\n",
       " ([[np.int32(596), np.int32(1247)],\n",
       "   [np.int32(702), np.int32(1247)],\n",
       "   [np.int32(702), np.int32(1291)],\n",
       "   [np.int32(596), np.int32(1291)]],\n",
       "  'Uncr',\n",
       "  np.float64(0.2684810161590576)),\n",
       " ([[np.int32(502), np.int32(1273)],\n",
       "   [np.int32(678), np.int32(1273)],\n",
       "   [np.int32(678), np.int32(1321)],\n",
       "   [np.int32(502), np.int32(1321)]],\n",
       "  '2 7wef {',\n",
       "  np.float64(0.0180117955009563)),\n",
       " ([[np.int32(383), np.int32(1323)],\n",
       "   [np.int32(429), np.int32(1323)],\n",
       "   [np.int32(429), np.int32(1359)],\n",
       "   [np.int32(383), np.int32(1359)]],\n",
       "  '2',\n",
       "  np.float64(0.08263105807952176)),\n",
       " ([[np.int32(654), np.int32(1332)],\n",
       "   [np.int32(706), np.int32(1332)],\n",
       "   [np.int32(706), np.int32(1358)],\n",
       "   [np.int32(654), np.int32(1358)]],\n",
       "  '#',\n",
       "  np.float64(0.04886345569122241)),\n",
       " ([[np.float64(346.200159952016), np.float64(631.0807837648783)],\n",
       "   [np.float64(481.96865758907296), np.float64(650.500243118413)],\n",
       "   [np.float64(474.799840047984), np.float64(687.9192162351217)],\n",
       "   [np.float64(339.03134241092704), np.float64(668.499756881587)]],\n",
       "  '3-Scon }',\n",
       "  np.float64(0.024709925219490697)),\n",
       " ([[np.float64(516.0895536990885), np.float64(639.0835899750776)],\n",
       "   [np.float64(644.9512828941902), np.float64(661.3037258430045)],\n",
       "   [np.float64(634.9104463009115), np.float64(702.9164100249224)],\n",
       "   [np.float64(507.0487171058098), np.float64(680.6962741569955)]],\n",
       "  'b 78',\n",
       "  np.float64(0.005399759858846664)),\n",
       " ([[np.float64(678.200159952016), np.float64(659.0807837648783)],\n",
       "   [np.float64(782.943546258563), np.float64(677.3303412013761)],\n",
       "   [np.float64(774.799840047984), np.float64(715.9192162351217)],\n",
       "   [np.float64(669.056453741437), np.float64(696.6696587986239)]],\n",
       "  '222:',\n",
       "  np.float64(0.021400263532996178)),\n",
       " ([[np.float64(577.0513167019495), np.float64(1322.1539501058485)],\n",
       "   [np.float64(653.9490607462964), np.float64(1332.4495086606914)],\n",
       "   [np.float64(649.9486832980505), np.float64(1357.8460498941515)],\n",
       "   [np.float64(573.0509392537036), np.float64(1347.5504913393086)]],\n",
       "  '8223 ',\n",
       "  np.float64(0.10801163082244994))]"
      ]
     },
     "execution_count": 53,
     "metadata": {},
     "output_type": "execute_result"
    }
   ],
   "source": [
    "results"
   ]
  },
  {
   "cell_type": "code",
   "execution_count": 54,
   "metadata": {},
   "outputs": [],
   "source": [
    "def box_coordinates(box):\n",
    "  (lt, rt, br, bl) = box\n",
    "  lt = (int(lt[0]), int(lt[1]))\n",
    "  rt = (int(rt[0]), int(rt[1]))\n",
    "  br = (int(br[0]), int(br[1]))\n",
    "  bl = (int(bl[0]), int(bl[1]))\n",
    "  return lt, rt, br, bl"
   ]
  },
  {
   "cell_type": "code",
   "execution_count": 55,
   "metadata": {},
   "outputs": [],
   "source": [
    "def write_text(text, x, y, img, color=(50,50,255), font_size=30):\n",
    "  img_pil = Image.fromarray(img)\n",
    "  draw = ImageDraw.Draw(img_pil)\n",
    "  draw.text((x, y - font_size), text, fill = color)\n",
    "  img = np.array(img_pil)\n",
    "  return img"
   ]
  },
  {
   "cell_type": "code",
   "execution_count": 56,
   "metadata": {},
   "outputs": [],
   "source": [
    "def draw_img(img, lt, br, color=(200,255,0),thickness=2):\n",
    "  cv2.rectangle(img, lt, br, color, thickness)\n",
    "  return img"
   ]
  },
  {
   "cell_type": "code",
   "execution_count": 57,
   "metadata": {},
   "outputs": [
    {
     "name": "stdout",
     "output_type": "stream",
     "text": [
      "[[np.int32(475), np.int32(649)], [np.int32(517), np.int32(649)], [np.int32(517), np.int32(685)], [np.int32(475), np.int32(685)]] €: 0.03976555031945574\n",
      "[[np.int32(638), np.int32(664)], [np.int32(676), np.int32(664)], [np.int32(676), np.int32(696)], [np.int32(638), np.int32(696)]] 7 0.08208541318746043\n",
      "[[np.int32(378), np.int32(720)], [np.int32(410), np.int32(720)], [np.int32(410), np.int32(764)], [np.int32(378), np.int32(764)]] 0 0.9979170689815788\n",
      "[[np.int32(430), np.int32(714)], [np.int32(652), np.int32(714)], [np.int32(652), np.int32(788)], [np.int32(430), np.int32(788)]] 2 4 5 5 0.8028466168725696\n",
      "[[np.int32(709), np.int32(745)], [np.int32(785), np.int32(745)], [np.int32(785), np.int32(781)], [np.int32(709), np.int32(781)]] ^ < 0.041750882254236656\n",
      "[[np.int32(179), np.int32(791)], [np.int32(292), np.int32(791)], [np.int32(292), np.int32(836)], [np.int32(179), np.int32(836)]] 35ase 0.029072877507564456\n",
      "[[np.int32(331), np.int32(804)], [np.int32(443), np.int32(804)], [np.int32(443), np.int32(846)], [np.int32(331), np.int32(846)]] 2 Yire 0.42601756027433696\n",
      "[[np.int32(479), np.int32(812)], [np.int32(611), np.int32(812)], [np.int32(611), np.int32(863)], [np.int32(479), np.int32(863)]] 70/e014 0.054962484924637435\n",
      "[[np.int32(663), np.int32(829)], [np.int32(750), np.int32(829)], [np.int32(750), np.int32(870)], [np.int32(663), np.int32(870)]] 2804 0.5059032440185547\n",
      "[[np.int32(804), np.int32(839)], [np.int32(895), np.int32(839)], [np.int32(895), np.int32(884)], [np.int32(804), np.int32(884)]] 19- 2 0.08556305412732858\n",
      "[[np.int32(202), np.int32(890)], [np.int32(385), np.int32(890)], [np.int32(385), np.int32(939)], [np.int32(202), np.int32(939)]] 5v -01-4 0.2951844437391991\n",
      "[[np.int32(510), np.int32(1116)], [np.int32(604), np.int32(1116)], [np.int32(604), np.int32(1172)], [np.int32(510), np.int32(1172)]] NO: 0.6278793254712352\n",
      "[[np.int32(370), np.int32(1268)], [np.int32(430), np.int32(1268)], [np.int32(430), np.int32(1296)], [np.int32(370), np.int32(1296)]] o 0.022325532812467408\n",
      "[[np.int32(596), np.int32(1247)], [np.int32(702), np.int32(1247)], [np.int32(702), np.int32(1291)], [np.int32(596), np.int32(1291)]] Uncr 0.2684810161590576\n",
      "[[np.int32(502), np.int32(1273)], [np.int32(678), np.int32(1273)], [np.int32(678), np.int32(1321)], [np.int32(502), np.int32(1321)]] 2 7wef { 0.0180117955009563\n",
      "[[np.int32(383), np.int32(1323)], [np.int32(429), np.int32(1323)], [np.int32(429), np.int32(1359)], [np.int32(383), np.int32(1359)]] 2 0.08263105807952176\n",
      "[[np.int32(654), np.int32(1332)], [np.int32(706), np.int32(1332)], [np.int32(706), np.int32(1358)], [np.int32(654), np.int32(1358)]] # 0.04886345569122241\n",
      "[[np.float64(346.200159952016), np.float64(631.0807837648783)], [np.float64(481.96865758907296), np.float64(650.500243118413)], [np.float64(474.799840047984), np.float64(687.9192162351217)], [np.float64(339.03134241092704), np.float64(668.499756881587)]] 3-Scon } 0.024709925219490697\n",
      "[[np.float64(516.0895536990885), np.float64(639.0835899750776)], [np.float64(644.9512828941902), np.float64(661.3037258430045)], [np.float64(634.9104463009115), np.float64(702.9164100249224)], [np.float64(507.0487171058098), np.float64(680.6962741569955)]] b 78 0.005399759858846664\n",
      "[[np.float64(678.200159952016), np.float64(659.0807837648783)], [np.float64(782.943546258563), np.float64(677.3303412013761)], [np.float64(774.799840047984), np.float64(715.9192162351217)], [np.float64(669.056453741437), np.float64(696.6696587986239)]] 222: 0.021400263532996178\n",
      "[[np.float64(577.0513167019495), np.float64(1322.1539501058485)], [np.float64(653.9490607462964), np.float64(1332.4495086606914)], [np.float64(649.9486832980505), np.float64(1357.8460498941515)], [np.float64(573.0509392537036), np.float64(1347.5504913393086)]] 8223  0.10801163082244994\n"
     ]
    }
   ],
   "source": [
    "img = original.copy()\n",
    "for (box, text, probability) in results:\n",
    "  print(box, text, probability)\n",
    "  lt, rt, br, bl = box_coordinates(box)\n",
    "  img = draw_img(img, lt, br)\n",
    "  img = write_text(text, lt[0], lt[1], img)\n",
    "cv2.imshow(\"Slika\", img)\n",
    "cv2.waitKey(0)\n",
    "cv2.destroyAllWindows()"
   ]
  },
  {
   "cell_type": "code",
   "execution_count": 62,
   "metadata": {},
   "outputs": [
    {
     "name": "stdout",
     "output_type": "stream",
     "text": [
      "Extracted Text: €: 7 0 2 4 5 5 ^ < 35ase 2 Yire 70/e014 2804 19- 2 5v -01-4 NO: o Uncr 2 7wef { 2 # 3-Scon } b 78 222: 8223 \n"
     ]
    },
    {
     "data": {
      "text/plain": [
       "str"
      ]
     },
     "execution_count": 62,
     "metadata": {},
     "output_type": "execute_result"
    }
   ],
   "source": [
    "extracted_text = ' '.join([text[1] for text in results])\n",
    "print(\"Extracted Text:\", extracted_text)\n",
    "type(extracted_text)"
   ]
  },
  {
   "cell_type": "code",
   "execution_count": 33,
   "metadata": {},
   "outputs": [],
   "source": []
  },
  {
   "cell_type": "code",
   "execution_count": 65,
   "metadata": {},
   "outputs": [
    {
     "name": "stdout",
     "output_type": "stream",
     "text": [
      "Extracted Digits: 702455224223\n"
     ]
    }
   ],
   "source": [
    "# Use regex to find all digits in the extracted text\n",
    "pattern = r'\\b\\d\\b'\n",
    "meter_values = \"\".join(re.findall(pattern, extracted_text))\n",
    "# Print the found digits\n",
    "print(\"Extracted Digits:\", meter_values)"
   ]
  },
  {
   "cell_type": "code",
   "execution_count": 46,
   "metadata": {},
   "outputs": [
    {
     "name": "stdout",
     "output_type": "stream",
     "text": [
      "False\n"
     ]
    }
   ],
   "source": [
    "import torch\n",
    "print(torch.cuda.is_available())"
   ]
  },
  {
   "cell_type": "code",
   "execution_count": null,
   "metadata": {},
   "outputs": [],
   "source": []
  }
 ],
 "metadata": {
  "kernelspec": {
   "display_name": ".venv",
   "language": "python",
   "name": "python3"
  },
  "language_info": {
   "codemirror_mode": {
    "name": "ipython",
    "version": 3
   },
   "file_extension": ".py",
   "mimetype": "text/x-python",
   "name": "python",
   "nbconvert_exporter": "python",
   "pygments_lexer": "ipython3",
   "version": "3.12.3"
  }
 },
 "nbformat": 4,
 "nbformat_minor": 2
}
