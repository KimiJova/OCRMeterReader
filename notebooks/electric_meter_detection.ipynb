{
 "cells": [
  {
   "cell_type": "code",
   "execution_count": 4,
   "metadata": {},
   "outputs": [],
   "source": [
    "import cv2#imports opencv libraries\n",
    "import numpy as np\n",
    "import easyocr\n",
    "import matplotlib as mpl\n",
    "import matplotlib.pyplot as plt\n",
    "from PIL import Image\n",
    "import imutils"
   ]
  },
  {
   "cell_type": "code",
   "execution_count": 5,
   "metadata": {},
   "outputs": [],
   "source": [
    "image_path=\"images/file_23.jpg\"\n",
    "image=cv2.imread(image_path,0)#loading the image\n",
    "image = imutils.resize(image, height=500)\n",
    "cv2.imshow(\"Original Image\",image)\n",
    "cv2.waitKey(0)\n",
    "cv2.destroyAllWindows()"
   ]
  },
  {
   "cell_type": "code",
   "execution_count": 6,
   "metadata": {},
   "outputs": [],
   "source": [
    "#function to preprocess the image\n",
    "def preprocess(image):\n",
    "    sharpen_kernel = np.array([[-1,-1,-1], [-1,9,-1], [-1,-1,-1]])#sharpening the image\n",
    "    sharpen = cv2.filter2D(image, -1, sharpen_kernel)\n",
    "    adjusted = cv2.convertScaleAbs(sharpen, alpha=1.5, beta=10)#increases the brightness and saturation\n",
    "    return adjusted#returning the preprocessed image"
   ]
  },
  {
   "cell_type": "code",
   "execution_count": 7,
   "metadata": {},
   "outputs": [],
   "source": [
    "new_image=preprocess(image)\n",
    "cv2.imshow(\"Preprocessed Image\",new_image)\n",
    "cv2.waitKey(0)\n",
    "cv2.destroyAllWindows()"
   ]
  },
  {
   "cell_type": "code",
   "execution_count": 8,
   "metadata": {},
   "outputs": [],
   "source": [
    "from inference_sdk import InferenceHTTPClient"
   ]
  },
  {
   "cell_type": "code",
   "execution_count": 11,
   "metadata": {},
   "outputs": [],
   "source": [
    "CLIENT = InferenceHTTPClient(\n",
    "    api_url=\"https://detect.roboflow.com\",\n",
    "    api_key=\"OdHUKdeK0meSHgJfruTL\"\n",
    ")\n",
    "\n",
    "results = CLIENT.infer(image, model_id=\"number-detection-for-v9/3\")"
   ]
  },
  {
   "cell_type": "code",
   "execution_count": 12,
   "metadata": {},
   "outputs": [],
   "source": [
    "# Get the predictions from the result\n",
    "predictions = results['predictions']\n",
    "white_background = np.full_like(image, (255), dtype=np.uint8)#makes a custom white coloured background for better presentation\n",
    "# Loop through the predictions and draw bounding boxes\n",
    "for prediction in predictions:\n",
    "    # Get the bounding box coordinates\n",
    "    x = int(prediction['x'])\n",
    "    y = int(prediction['y'])\n",
    "    width = int(prediction['width'])\n",
    "    height = int(prediction['height'])\n",
    "\n",
    "    # Draw the bounding box on the image\n",
    "    cv2.rectangle(new_image, (x-int(width/2), y-int(height/2)), (x + int(width/2), y + int(height/2)), (0, 0, 255), 2)\n",
    "    # Get the class ID\n",
    "    class_id = prediction['class']\n",
    "    # Print the class name on top of the bounding box\n",
    "    cv2.putText(new_image, class_id, (x-int(height), y-int(width)), cv2.FONT_HERSHEY_SIMPLEX, .7, (0, 0, 0), 2)\n",
    "    cv2.putText(white_background, class_id, (x, y), cv2.FONT_HERSHEY_SIMPLEX, 0.7, (0, 0, 0), 2) #puts the text also on the white background for later purposes"
   ]
  },
  {
   "cell_type": "code",
   "execution_count": 13,
   "metadata": {},
   "outputs": [
    {
     "data": {
      "text/plain": [
       "{'inference_id': '0c7eda4b-557f-4959-8503-a41908fdd0fa',\n",
       " 'time': 0.04596331899938377,\n",
       " 'image': {'width': 375, 'height': 500},\n",
       " 'predictions': []}"
      ]
     },
     "execution_count": 13,
     "metadata": {},
     "output_type": "execute_result"
    }
   ],
   "source": [
    "from inference_sdk import InferenceHTTPClient\n",
    "\n",
    "CLIENT = InferenceHTTPClient(\n",
    "    api_url=\"https://detect.roboflow.com\",\n",
    "    api_key=\"OdHUKdeK0meSHgJfruTL\"\n",
    ")\n",
    "\n",
    "#result = CLIENT.infer(your_image.jpg, model_id=\"digit-0s4qo/9\")\n",
    "# infer on a local image\n",
    "crop = CLIENT.infer(image, model_id=\"meter-display-yqxh9/1\")\n",
    "crop"
   ]
  },
  {
   "cell_type": "code",
   "execution_count": 14,
   "metadata": {},
   "outputs": [
    {
     "data": {
      "text/plain": [
       "{'inference_id': '0c7eda4b-557f-4959-8503-a41908fdd0fa',\n",
       " 'time': 0.04596331899938377,\n",
       " 'image': {'width': 375, 'height': 500},\n",
       " 'predictions': []}"
      ]
     },
     "execution_count": 14,
     "metadata": {},
     "output_type": "execute_result"
    }
   ],
   "source": [
    "crop"
   ]
  },
  {
   "cell_type": "code",
   "execution_count": 15,
   "metadata": {},
   "outputs": [
    {
     "ename": "IndexError",
     "evalue": "list index out of range",
     "output_type": "error",
     "traceback": [
      "\u001b[1;31m---------------------------------------------------------------------------\u001b[0m",
      "\u001b[1;31mIndexError\u001b[0m                                Traceback (most recent call last)",
      "Cell \u001b[1;32mIn[15], line 3\u001b[0m\n\u001b[0;32m      1\u001b[0m \u001b[38;5;66;03m#handls the data form the array and makes it easier to handel during the bounding box drawing\u001b[39;00m\n\u001b[0;32m      2\u001b[0m jd\u001b[38;5;241m=\u001b[39mcrop[\u001b[38;5;124m'\u001b[39m\u001b[38;5;124mpredictions\u001b[39m\u001b[38;5;124m'\u001b[39m]\n\u001b[1;32m----> 3\u001b[0m jd\u001b[38;5;241m=\u001b[39m\u001b[43mjd\u001b[49m\u001b[43m[\u001b[49m\u001b[38;5;241;43m0\u001b[39;49m\u001b[43m]\u001b[49m\n\u001b[0;32m      4\u001b[0m x\u001b[38;5;241m=\u001b[39m\u001b[38;5;28mint\u001b[39m(jd[\u001b[38;5;124m'\u001b[39m\u001b[38;5;124mx\u001b[39m\u001b[38;5;124m'\u001b[39m])\n\u001b[0;32m      5\u001b[0m y\u001b[38;5;241m=\u001b[39m\u001b[38;5;28mint\u001b[39m(jd[\u001b[38;5;124m'\u001b[39m\u001b[38;5;124my\u001b[39m\u001b[38;5;124m'\u001b[39m])\n",
      "\u001b[1;31mIndexError\u001b[0m: list index out of range"
     ]
    }
   ],
   "source": [
    "#handls the data form the array and makes it easier to handel during the bounding box drawing\n",
    "jd=crop['predictions']\n",
    "jd=jd[0]\n",
    "x=int(jd['x'])\n",
    "y=int(jd['y'])\n",
    "height=int(jd['height'])\n",
    "width=int(jd['width'])\n",
    "print(x)\n",
    "print(y)"
   ]
  },
  {
   "cell_type": "code",
   "execution_count": null,
   "metadata": {},
   "outputs": [],
   "source": []
  }
 ],
 "metadata": {
  "kernelspec": {
   "display_name": ".venv",
   "language": "python",
   "name": "python3"
  },
  "language_info": {
   "codemirror_mode": {
    "name": "ipython",
    "version": 3
   },
   "file_extension": ".py",
   "mimetype": "text/x-python",
   "name": "python",
   "nbconvert_exporter": "python",
   "pygments_lexer": "ipython3",
   "version": "3.12.3"
  }
 },
 "nbformat": 4,
 "nbformat_minor": 2
}
